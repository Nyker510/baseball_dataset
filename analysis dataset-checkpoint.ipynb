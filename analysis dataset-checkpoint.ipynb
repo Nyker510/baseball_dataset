{
 "cells": [
  {
   "cell_type": "code",
   "execution_count": 205,
   "metadata": {
    "collapsed": false
   },
   "outputs": [],
   "source": [
    "import matplotlib.pyplot as plt\n",
    "import seaborn as sns\n",
    "import numpy as np\n",
    "import pandas as pd\n",
    "name_list = [\n",
    "    [\"carp\",\"広\"],\n",
    "    [\"giants\",\"巨\"],\n",
    "    [\"tigers\",\"阪\"],\n",
    "    [\"dragons\",\"中\"],\n",
    "    [\"swallows\",\"ヤ\"],\n",
    "    [\"baystars\",\"横\"],\n",
    "    [\"y-DeNA-b\",\"D\"],\n",
    "    [\"Hawks\",\"ソ\"],\n",
    "    [\"orix\",\"オ\"],\n",
    "    [\"lions\",\"西\"],\n",
    "    [\"eagles\",\"楽\"],\n",
    "    [\"marines\",\"ロ\"],\n",
    "    [\"fighters\",\"日\"],\n",
    "]"
   ]
  },
  {
   "cell_type": "code",
   "execution_count": 206,
   "metadata": {
    "collapsed": false
   },
   "outputs": [
    {
     "data": {
      "text/plain": [
       "HomeTeam\n",
       "D    307\n",
       "オ    512\n",
       "ソ    507\n",
       "ヤ    538\n",
       "ロ    531\n",
       "中    509\n",
       "巨    508\n",
       "広    530\n",
       "日    509\n",
       "楽    545\n",
       "横    230\n",
       "西    510\n",
       "阪    533\n",
       "dtype: int64"
      ]
     },
     "execution_count": 206,
     "metadata": {},
     "output_type": "execute_result"
    }
   ],
   "source": [
    "match_df = pd.read_csv(\"match_up_table.csv\")\n",
    "# match_df.dtypes\n",
    "match_df.groupby(\"HomeTeam\").size()"
   ]
  },
  {
   "cell_type": "code",
   "execution_count": 207,
   "metadata": {
    "collapsed": false
   },
   "outputs": [
    {
     "name": "stdout",
     "output_type": "stream",
     "text": [
      "広\n",
      "巨\n",
      "阪\n",
      "中\n",
      "ヤ\n",
      "横\n",
      "D\n",
      "ソ\n",
      "オ\n",
      "西\n",
      "楽\n",
      "ロ\n",
      "日\n"
     ]
    }
   ],
   "source": [
    "games_dfs = []\n",
    "for team_name in name_list:\n",
    "    index_str = team_name[1]\n",
    "    print index_str\n",
    "    games_df = match_df.query(\"AwayTeam == \\\"\"+index_str+ \"\\\" or HomeTeam == \\\"\"+index_str+ \"\\\"\")\n",
    "    games_df = games_df[games_df[\"HomePoint\"]!= \"中止\"]\n",
    "#     games_df = games_df[games_df[\"Date\"].str[:4] == \"2015\"]\n",
    "    games_df = games_df.convert_objects(convert_numeric=True)\n",
    "    games_dfs.append(games_df)"
   ]
  },
  {
   "cell_type": "code",
   "execution_count": 208,
   "metadata": {
    "collapsed": false
   },
   "outputs": [
    {
     "name": "stdout",
     "output_type": "stream",
     "text": [
      "広 34 456 517\n",
      "巨 45 566 396\n",
      "阪 34 486 487\n",
      "中 41 503 463\n",
      "ヤ 40 474 493\n",
      "横 12 146 274\n",
      "D 17 239 319\n",
      "ソ 44 546 417\n",
      "オ 32 458 517\n",
      "西 36 494 477\n",
      "楽 27 475 505\n",
      "ロ 38 466 503\n",
      "日 30 518 459\n"
     ]
    }
   ],
   "source": [
    "win_aboves = []\n",
    "for k,carp_game in enumerate(games_dfs):\n",
    "    index_str = name_list[k][1]\n",
    "    even = carp_game[\"HomePoint\"] == carp_game[\"AwayPoint\"]\n",
    "    win =  (\n",
    "        ((carp_game[\"HomeTeam\"] == index_str) & (carp_game[\"HomePoint\"] > carp_game[\"AwayPoint\"]))\n",
    "         |\n",
    "        ((carp_game[\"AwayTeam\"] == index_str) & (carp_game[\"HomePoint\"] < carp_game[\"AwayPoint\"]))\n",
    "        )\n",
    "    lose =  (\n",
    "        ((carp_game[\"HomeTeam\"] == index_str) & (carp_game[\"HomePoint\"] < carp_game[\"AwayPoint\"]))\n",
    "         |\n",
    "        ((carp_game[\"AwayTeam\"] == index_str) & (carp_game[\"HomePoint\"] > carp_game[\"AwayPoint\"]))\n",
    "        )\n",
    "    win_above = []\n",
    "    for i in range(len(win)):\n",
    "    #     print np.sum(even[:i]),np.sum(win[:i]),np.sum(lose[:i])\n",
    "        win_above.append(np.sum(win[:i])-np.sum(lose[:i]))\n",
    "    win_above.append(np.sum(win)-np.sum(lose))\n",
    "    win_aboves.append(win_above)\n",
    "    print index_str,np.sum(even),np.sum(win),np.sum(lose)"
   ]
  },
  {
   "cell_type": "code",
   "execution_count": 209,
   "metadata": {
    "collapsed": false
   },
   "outputs": [],
   "source": [
    "# win_aboves[-2] = win_aboves[-2].extend(win_aboves[-1])\n",
    "sns.set_palette(sns.color_palette(\"hls\", 13))\n",
    "for k in range(len(win_aboves)):\n",
    "    win_above = win_aboves[k]\n",
    "    plt.plot(win_above,\"-o\",label=name_list[k][0],ms=3.)\n",
    "plt.legend()\n",
    "plt.show()"
   ]
  },
  {
   "cell_type": "code",
   "execution_count": null,
   "metadata": {
    "collapsed": false
   },
   "outputs": [],
   "source": [
    "import datetime\n",
    "from matplotlib.dates import YEARLY, DateFormatter, rrulewrapper, RRuleLocator, drange\n",
    "date1 = datetime.date( 1952, 1, 1 )\n",
    "date2 = datetime.date( 2004, 4, 12 )\n",
    "delta = datetime.timedelta(days=100)\n",
    "\n",
    "dates = drange(date1, date2, delta)\n",
    "print dates\n",
    "hoge = drange(date)"
   ]
  },
  {
   "cell_type": "code",
   "execution_count": 98,
   "metadata": {
    "collapsed": false
   },
   "outputs": [
    {
     "ename": "TypeError",
     "evalue": "data type \"dates\" not understood",
     "output_type": "error",
     "traceback": [
      "\u001b[1;31m---------------------------------------------------------------------------\u001b[0m",
      "\u001b[1;31mTypeError\u001b[0m                                 Traceback (most recent call last)",
      "\u001b[1;32m<ipython-input-98-578b3c6bf97e>\u001b[0m in \u001b[0;36m<module>\u001b[1;34m()\u001b[0m\n\u001b[0;32m      1\u001b[0m \u001b[0mdf\u001b[0m \u001b[1;33m=\u001b[0m \u001b[0mcarp_game\u001b[0m\u001b[1;33m.\u001b[0m\u001b[0mconvert_objects\u001b[0m\u001b[1;33m(\u001b[0m\u001b[0mconvert_dates\u001b[0m\u001b[1;33m=\u001b[0m\u001b[0mTrue\u001b[0m\u001b[1;33m)\u001b[0m\u001b[1;33m\u001b[0m\u001b[0m\n\u001b[1;32m----> 2\u001b[1;33m \u001b[0mcarp_game\u001b[0m\u001b[1;33m[\u001b[0m\u001b[1;34m\"Date\"\u001b[0m\u001b[1;33m]\u001b[0m\u001b[1;33m.\u001b[0m\u001b[0mastype\u001b[0m\u001b[1;33m(\u001b[0m\u001b[1;34m\"dates\"\u001b[0m\u001b[1;33m)\u001b[0m\u001b[1;33m\u001b[0m\u001b[0m\n\u001b[0m",
      "\u001b[1;32mC:\\Users\\det A\\Anaconda\\lib\\site-packages\\pandas\\core\\generic.pyc\u001b[0m in \u001b[0;36mastype\u001b[1;34m(self, dtype, copy, raise_on_error, **kwargs)\u001b[0m\n\u001b[0;32m   2409\u001b[0m \u001b[1;33m\u001b[0m\u001b[0m\n\u001b[0;32m   2410\u001b[0m         mgr = self._data.astype(\n\u001b[1;32m-> 2411\u001b[1;33m             dtype=dtype, copy=copy, raise_on_error=raise_on_error, **kwargs)\n\u001b[0m\u001b[0;32m   2412\u001b[0m         \u001b[1;32mreturn\u001b[0m \u001b[0mself\u001b[0m\u001b[1;33m.\u001b[0m\u001b[0m_constructor\u001b[0m\u001b[1;33m(\u001b[0m\u001b[0mmgr\u001b[0m\u001b[1;33m)\u001b[0m\u001b[1;33m.\u001b[0m\u001b[0m__finalize__\u001b[0m\u001b[1;33m(\u001b[0m\u001b[0mself\u001b[0m\u001b[1;33m)\u001b[0m\u001b[1;33m\u001b[0m\u001b[0m\n\u001b[0;32m   2413\u001b[0m \u001b[1;33m\u001b[0m\u001b[0m\n",
      "\u001b[1;32mC:\\Users\\det A\\Anaconda\\lib\\site-packages\\pandas\\core\\internals.pyc\u001b[0m in \u001b[0;36mastype\u001b[1;34m(self, dtype, **kwargs)\u001b[0m\n\u001b[0;32m   2502\u001b[0m \u001b[1;33m\u001b[0m\u001b[0m\n\u001b[0;32m   2503\u001b[0m     \u001b[1;32mdef\u001b[0m \u001b[0mastype\u001b[0m\u001b[1;33m(\u001b[0m\u001b[0mself\u001b[0m\u001b[1;33m,\u001b[0m \u001b[0mdtype\u001b[0m\u001b[1;33m,\u001b[0m \u001b[1;33m**\u001b[0m\u001b[0mkwargs\u001b[0m\u001b[1;33m)\u001b[0m\u001b[1;33m:\u001b[0m\u001b[1;33m\u001b[0m\u001b[0m\n\u001b[1;32m-> 2504\u001b[1;33m         \u001b[1;32mreturn\u001b[0m \u001b[0mself\u001b[0m\u001b[1;33m.\u001b[0m\u001b[0mapply\u001b[0m\u001b[1;33m(\u001b[0m\u001b[1;34m'astype'\u001b[0m\u001b[1;33m,\u001b[0m \u001b[0mdtype\u001b[0m\u001b[1;33m=\u001b[0m\u001b[0mdtype\u001b[0m\u001b[1;33m,\u001b[0m \u001b[1;33m**\u001b[0m\u001b[0mkwargs\u001b[0m\u001b[1;33m)\u001b[0m\u001b[1;33m\u001b[0m\u001b[0m\n\u001b[0m\u001b[0;32m   2505\u001b[0m \u001b[1;33m\u001b[0m\u001b[0m\n\u001b[0;32m   2506\u001b[0m     \u001b[1;32mdef\u001b[0m \u001b[0mconvert\u001b[0m\u001b[1;33m(\u001b[0m\u001b[0mself\u001b[0m\u001b[1;33m,\u001b[0m \u001b[1;33m**\u001b[0m\u001b[0mkwargs\u001b[0m\u001b[1;33m)\u001b[0m\u001b[1;33m:\u001b[0m\u001b[1;33m\u001b[0m\u001b[0m\n",
      "\u001b[1;32mC:\\Users\\det A\\Anaconda\\lib\\site-packages\\pandas\\core\\internals.pyc\u001b[0m in \u001b[0;36mapply\u001b[1;34m(self, f, axes, filter, do_integrity_check, **kwargs)\u001b[0m\n\u001b[0;32m   2457\u001b[0m                                                  copy=align_copy)\n\u001b[0;32m   2458\u001b[0m \u001b[1;33m\u001b[0m\u001b[0m\n\u001b[1;32m-> 2459\u001b[1;33m             \u001b[0mapplied\u001b[0m \u001b[1;33m=\u001b[0m \u001b[0mgetattr\u001b[0m\u001b[1;33m(\u001b[0m\u001b[0mb\u001b[0m\u001b[1;33m,\u001b[0m \u001b[0mf\u001b[0m\u001b[1;33m)\u001b[0m\u001b[1;33m(\u001b[0m\u001b[1;33m**\u001b[0m\u001b[0mkwargs\u001b[0m\u001b[1;33m)\u001b[0m\u001b[1;33m\u001b[0m\u001b[0m\n\u001b[0m\u001b[0;32m   2460\u001b[0m \u001b[1;33m\u001b[0m\u001b[0m\n\u001b[0;32m   2461\u001b[0m             \u001b[1;32mif\u001b[0m \u001b[0misinstance\u001b[0m\u001b[1;33m(\u001b[0m\u001b[0mapplied\u001b[0m\u001b[1;33m,\u001b[0m \u001b[0mlist\u001b[0m\u001b[1;33m)\u001b[0m\u001b[1;33m:\u001b[0m\u001b[1;33m\u001b[0m\u001b[0m\n",
      "\u001b[1;32mC:\\Users\\det A\\Anaconda\\lib\\site-packages\\pandas\\core\\internals.pyc\u001b[0m in \u001b[0;36mastype\u001b[1;34m(self, dtype, copy, raise_on_error, values, **kwargs)\u001b[0m\n\u001b[0;32m    371\u001b[0m     \u001b[1;32mdef\u001b[0m \u001b[0mastype\u001b[0m\u001b[1;33m(\u001b[0m\u001b[0mself\u001b[0m\u001b[1;33m,\u001b[0m \u001b[0mdtype\u001b[0m\u001b[1;33m,\u001b[0m \u001b[0mcopy\u001b[0m\u001b[1;33m=\u001b[0m\u001b[0mFalse\u001b[0m\u001b[1;33m,\u001b[0m \u001b[0mraise_on_error\u001b[0m\u001b[1;33m=\u001b[0m\u001b[0mTrue\u001b[0m\u001b[1;33m,\u001b[0m \u001b[0mvalues\u001b[0m\u001b[1;33m=\u001b[0m\u001b[0mNone\u001b[0m\u001b[1;33m,\u001b[0m \u001b[1;33m**\u001b[0m\u001b[0mkwargs\u001b[0m\u001b[1;33m)\u001b[0m\u001b[1;33m:\u001b[0m\u001b[1;33m\u001b[0m\u001b[0m\n\u001b[0;32m    372\u001b[0m         return self._astype(dtype, copy=copy, raise_on_error=raise_on_error,\n\u001b[1;32m--> 373\u001b[1;33m                             values=values, **kwargs)\n\u001b[0m\u001b[0;32m    374\u001b[0m \u001b[1;33m\u001b[0m\u001b[0m\n\u001b[0;32m    375\u001b[0m     def _astype(self, dtype, copy=False, raise_on_error=True, values=None,\n",
      "\u001b[1;32mC:\\Users\\det A\\Anaconda\\lib\\site-packages\\pandas\\core\\internals.pyc\u001b[0m in \u001b[0;36m_astype\u001b[1;34m(self, dtype, copy, raise_on_error, values, klass, **kwargs)\u001b[0m\n\u001b[0;32m    388\u001b[0m \u001b[1;33m\u001b[0m\u001b[0m\n\u001b[0;32m    389\u001b[0m         \u001b[1;31m# astype processing\u001b[0m\u001b[1;33m\u001b[0m\u001b[1;33m\u001b[0m\u001b[0m\n\u001b[1;32m--> 390\u001b[1;33m         \u001b[0mdtype\u001b[0m \u001b[1;33m=\u001b[0m \u001b[0mnp\u001b[0m\u001b[1;33m.\u001b[0m\u001b[0mdtype\u001b[0m\u001b[1;33m(\u001b[0m\u001b[0mdtype\u001b[0m\u001b[1;33m)\u001b[0m\u001b[1;33m\u001b[0m\u001b[0m\n\u001b[0m\u001b[0;32m    391\u001b[0m         \u001b[1;32mif\u001b[0m \u001b[0mself\u001b[0m\u001b[1;33m.\u001b[0m\u001b[0mdtype\u001b[0m \u001b[1;33m==\u001b[0m \u001b[0mdtype\u001b[0m\u001b[1;33m:\u001b[0m\u001b[1;33m\u001b[0m\u001b[0m\n\u001b[0;32m    392\u001b[0m             \u001b[1;32mif\u001b[0m \u001b[0mcopy\u001b[0m\u001b[1;33m:\u001b[0m\u001b[1;33m\u001b[0m\u001b[0m\n",
      "\u001b[1;31mTypeError\u001b[0m: data type \"dates\" not understood"
     ]
    }
   ],
   "source": [
    "df = carp_game.convert_objects(convert_dates=True)\n",
    "carp_game[\"Date\"].astype(\"dates\")"
   ]
  },
  {
   "cell_type": "code",
   "execution_count": null,
   "metadata": {
    "collapsed": true
   },
   "outputs": [],
   "source": []
  }
 ],
 "metadata": {
  "kernelspec": {
   "display_name": "Python 2",
   "language": "python",
   "name": "python2"
  },
  "language_info": {
   "codemirror_mode": {
    "name": "ipython",
    "version": 2
   },
   "file_extension": ".py",
   "mimetype": "text/x-python",
   "name": "python",
   "nbconvert_exporter": "python",
   "pygments_lexer": "ipython2",
   "version": "2.7.10"
  }
 },
 "nbformat": 4,
 "nbformat_minor": 0
}
