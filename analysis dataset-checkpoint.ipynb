{
 "cells": [
  {
   "cell_type": "code",
   "execution_count": 96,
   "metadata": {
    "collapsed": false
   },
   "outputs": [],
   "source": [
    "import matplotlib.pyplot as plt\n",
    "import seaborn as sns\n",
    "import numpy as np\n",
    "import pandas as pd\n",
    "\n",
    "from matplotlib import rcParams\n",
    "rcParams['font.family'] = 'IPAexGothic'\n",
    "rcParams['font.sans-serif'] = ['IPAexGothic']\n",
    "name_list = [\n",
    "    [\"carp\",\"広\"],\n",
    "    [\"giants\",\"巨\"],\n",
    "    [\"tigers\",\"阪\"],\n",
    "    [\"dragons\",\"中\"],\n",
    "    [\"swallows\",\"ヤ\"],\n",
    "    [\"baystars\",\"横\"],\n",
    "    [\"y-DeNA-b\",\"D\"],\n",
    "    [\"Hawks\",\"ソ\"],\n",
    "    [\"orix\",\"オ\"],\n",
    "    [\"lions\",\"西\"],\n",
    "    [\"eagles\",\"楽\"],\n",
    "    [\"marines\",\"ロ\"],\n",
    "    [\"fighters\",\"日\"],\n",
    "]"
   ]
  },
  {
   "cell_type": "code",
   "execution_count": 90,
   "metadata": {
    "collapsed": false
   },
   "outputs": [
    {
     "data": {
      "text/plain": [
       "HomeTeam\n",
       "D    307\n",
       "オ    512\n",
       "ソ    507\n",
       "ヤ    538\n",
       "ロ    531\n",
       "中    509\n",
       "巨    508\n",
       "広    530\n",
       "日    509\n",
       "楽    545\n",
       "横    230\n",
       "西    510\n",
       "阪    533\n",
       "dtype: int64"
      ]
     },
     "execution_count": 90,
     "metadata": {},
     "output_type": "execute_result"
    }
   ],
   "source": [
    "match_df = pd.read_csv(\"match_up_table.csv\")\n",
    "# match_df.dtypes\n",
    "match_df.groupby(\"HomeTeam\").size()"
   ]
  },
  {
   "cell_type": "code",
   "execution_count": 101,
   "metadata": {
    "collapsed": false
   },
   "outputs": [
    {
     "name": "stdout",
     "output_type": "stream",
     "text": [
      "広\n",
      "巨\n",
      "阪\n",
      "中\n",
      "ヤ\n",
      "横\n",
      "D\n",
      "ソ\n",
      "オ\n",
      "西\n",
      "楽\n",
      "ロ\n",
      "日\n"
     ]
    }
   ],
   "source": [
    "games_dfs = []\n",
    "for team_name in name_list:\n",
    "    index_str = team_name[1]\n",
    "    print index_str\n",
    "    games_df = match_df.query(\"AwayTeam == \\\"\"+index_str+ \"\\\" or HomeTeam == \\\"\"+index_str+ \"\\\"\")\n",
    "    games_df = games_df[games_df[\"HomePoint\"]!= \"中止\"]\n",
    "    games_df = games_df[games_df[\"Date\"].str[:4] == \"2015\"]\n",
    "    games_df = games_df.convert_objects(convert_numeric=True)\n",
    "    games_dfs.append(games_df)"
   ]
  },
  {
   "cell_type": "code",
   "execution_count": 102,
   "metadata": {
    "collapsed": false
   },
   "outputs": [
    {
     "name": "stdout",
     "output_type": "stream",
     "text": [
      "広 3 69 71\n",
      "巨 1 75 67\n",
      "阪 2 70 71\n",
      "中 4 62 77\n",
      "ヤ 2 76 65\n",
      "横 0 0 0\n",
      "D 1 62 80\n",
      "ソ 4 90 49\n",
      "オ 2 61 80\n",
      "西 5 69 69\n",
      "楽 3 57 83\n",
      "ロ 1 73 69\n",
      "日 2 79 62\n"
     ]
    }
   ],
   "source": [
    "win_aboves = []\n",
    "for k,carp_game in enumerate(games_dfs):\n",
    "    index_str = name_list[k][1]\n",
    "    even = carp_game[\"HomePoint\"] == carp_game[\"AwayPoint\"]\n",
    "    win =  (\n",
    "        ((carp_game[\"HomeTeam\"] == index_str) & (carp_game[\"HomePoint\"] > carp_game[\"AwayPoint\"]))\n",
    "         |\n",
    "        ((carp_game[\"AwayTeam\"] == index_str) & (carp_game[\"HomePoint\"] < carp_game[\"AwayPoint\"]))\n",
    "        )\n",
    "    lose =  (\n",
    "        ((carp_game[\"HomeTeam\"] == index_str) & (carp_game[\"HomePoint\"] < carp_game[\"AwayPoint\"]))\n",
    "         |\n",
    "        ((carp_game[\"AwayTeam\"] == index_str) & (carp_game[\"HomePoint\"] > carp_game[\"AwayPoint\"]))\n",
    "        )\n",
    "    win_above = []\n",
    "    for i in range(len(win)):\n",
    "    #     print np.sum(even[:i]),np.sum(win[:i]),np.sum(lose[:i])\n",
    "        win_above.append(np.sum(win[:i])-np.sum(lose[:i]))\n",
    "    win_above.append(np.sum(win)-np.sum(lose))\n",
    "    win_aboves.append(win_above)\n",
    "    print index_str,np.sum(even),np.sum(win),np.sum(lose)"
   ]
  },
  {
   "cell_type": "code",
   "execution_count": 103,
   "metadata": {
    "collapsed": false
   },
   "outputs": [],
   "source": [
    "# win_aboves[-2] = win_aboves[-2].extend(win_aboves[-1])\n",
    "sns.set_palette(sns.color_palette(\"hls\", 13))\n",
    "for k in range(len(win_aboves)):\n",
    "    win_above = win_aboves[k]\n",
    "    plt.plot(win_above,\"-o\",label=name_list[k][0],ms=3.)\n",
    "plt.legend()\n",
    "plt.show()"
   ]
  },
  {
   "cell_type": "code",
   "execution_count": null,
   "metadata": {
    "collapsed": false
   },
   "outputs": [],
   "source": [
    "import datetime\n",
    "from matplotlib.dates import YEARLY, DateFormatter, rrulewrapper, RRuleLocator, drange\n",
    "date1 = datetime.date( 1952, 1, 1 )\n",
    "date2 = datetime.date( 2004, 4, 12 )\n",
    "delta = datetime.timedelta(days=100)\n",
    "\n",
    "dates = drange(date1, date2, delta)\n",
    "print dates\n",
    "hoge = drange(date)"
   ]
  },
  {
   "cell_type": "code",
   "execution_count": 59,
   "metadata": {
    "collapsed": true
   },
   "outputs": [],
   "source": [
    "player_info_df = pd.read_csv(\"player_info_table.csv\",index_col=0)\n",
    "batting_data2015_df = pd.read_csv(\"battingdata2015.csv\",index_col=0)"
   ]
  },
  {
   "cell_type": "code",
   "execution_count": 65,
   "metadata": {
    "collapsed": false
   },
   "outputs": [],
   "source": [
    "concat_batter_df = pd.merge(player_info_df,batting_data2015_df,on=\"選手名\",how=\"right\")\n",
    "concat_batter_df = concat_batter_df[concat_batter_df[\"守備\"]!=\"投手\"] #打者だけ\n",
    "concat_batter_df = concat_batter_df.dropna() #試合に出てる選手だけ\n",
    "concat_batter_df[[\"年俸(推定)\",\"XR27\",\"RC27\"]]=concat_batter_df[[\"年俸(推定)\",\"XR27\",\"RC27\"]].convert_objects(convert_numeric=True)"
   ]
  },
  {
   "cell_type": "code",
   "execution_count": 64,
   "metadata": {
    "collapsed": false
   },
   "outputs": [],
   "source": [
    "plt.scatter(concat_batter_df[\"体重\"],concat_batter_df[\"盗塁\"])\n",
    "plt.show()"
   ]
  },
  {
   "cell_type": "code",
   "execution_count": null,
   "metadata": {
    "collapsed": false
   },
   "outputs": [],
   "source": [
    "concat_batter_df.dtypes"
   ]
  },
  {
   "cell_type": "code",
   "execution_count": null,
   "metadata": {
    "collapsed": false
   },
   "outputs": [],
   "source": [
    "plt.plot(concat_batter_df[\"XR27\"]+np.random.normal(size=len(concat_batter_df))/10.,concat_batter_df[\"年俸(推定)\"],\".\")\n",
    "plt.show()"
   ]
  },
  {
   "cell_type": "code",
   "execution_count": 67,
   "metadata": {
    "collapsed": false
   },
   "outputs": [],
   "source": [
    "s1 = concat_batter_df.groupby(\"守備\").size()"
   ]
  },
  {
   "cell_type": "code",
   "execution_count": 99,
   "metadata": {
    "collapsed": false
   },
   "outputs": [],
   "source": [
    "for item in s1.index:\n",
    "    my_df = concat_batter_df[concat_batter_df[\"守備\"]==item]\n",
    "    plt.plot(my_df[\"試合\"],my_df[\"年俸(推定)\"]+np.random.uniform(-.1,.1,size=len(my_df)),\"o\",label=item.decode(\"utf-8\"))\n",
    "plt.legend()\n",
    "plt.show()"
   ]
  },
  {
   "cell_type": "code",
   "execution_count": 63,
   "metadata": {
    "collapsed": false
   },
   "outputs": [
    {
     "data": {
      "text/html": [
       "<div>\n",
       "<table border=\"1\" class=\"dataframe\">\n",
       "  <thead>\n",
       "    <tr style=\"text-align: right;\">\n",
       "      <th></th>\n",
       "      <th>Team_x</th>\n",
       "      <th>No.</th>\n",
       "      <th>選手名</th>\n",
       "      <th>守備</th>\n",
       "      <th>生年月日</th>\n",
       "      <th>年齢</th>\n",
       "      <th>年数</th>\n",
       "      <th>身長</th>\n",
       "      <th>体重</th>\n",
       "      <th>血液型</th>\n",
       "      <th>...</th>\n",
       "      <th>四球</th>\n",
       "      <th>死球</th>\n",
       "      <th>三振</th>\n",
       "      <th>犠打</th>\n",
       "      <th>併殺打</th>\n",
       "      <th>長打率</th>\n",
       "      <th>出塁率</th>\n",
       "      <th>OPS</th>\n",
       "      <th>RC27</th>\n",
       "      <th>XR27</th>\n",
       "    </tr>\n",
       "  </thead>\n",
       "  <tbody>\n",
       "  </tbody>\n",
       "</table>\n",
       "<p>0 rows × 34 columns</p>\n",
       "</div>"
      ],
      "text/plain": [
       "Empty DataFrame\n",
       "Columns: [Team_x, No., 選手名, 守備, 生年月日, 年齢, 年数, 身長, 体重, 血液型, 出身地, 年俸(推定), 投, 打, Team_y, 背番号, 打率, 試合, 打席数, 打数, 安打, 本塁打, 打点, 盗塁, 四球, 死球, 三振, 犠打, 併殺打, 長打率, 出塁率, OPS, RC27, XR27]\n",
       "Index: []\n",
       "\n",
       "[0 rows x 34 columns]"
      ]
     },
     "execution_count": 63,
     "metadata": {},
     "output_type": "execute_result"
    }
   ],
   "source": [
    "concat_batter_df[concat_batter_df[\"守備\"]==\"投手\"]"
   ]
  },
  {
   "cell_type": "code",
   "execution_count": 89,
   "metadata": {
    "collapsed": false
   },
   "outputs": [
    {
     "data": {
      "text/plain": [
       "'2.7.10 |Anaconda 2.3.0 (x86_64)| (default, Sep 15 2015, 14:29:08) \\n[GCC 4.2.1 (Apple Inc. build 5577)]'"
      ]
     },
     "execution_count": 89,
     "metadata": {},
     "output_type": "execute_result"
    }
   ],
   "source": [
    "import sys\n",
    "sys.version"
   ]
  },
  {
   "cell_type": "code",
   "execution_count": 97,
   "metadata": {
    "collapsed": false
   },
   "outputs": [
    {
     "ename": "UnicodeDecodeError",
     "evalue": "'ascii' codec can't decode byte 0xe5 in position 0: ordinal not in range(128)",
     "output_type": "error",
     "traceback": [
      "\u001b[0;31m---------------------------------------------------------------------------\u001b[0m",
      "\u001b[0;31mUnicodeDecodeError\u001b[0m                        Traceback (most recent call last)",
      "\u001b[0;32m<ipython-input-97-635142d09685>\u001b[0m in \u001b[0;36m<module>\u001b[0;34m()\u001b[0m\n\u001b[1;32m      1\u001b[0m \u001b[0;32mfrom\u001b[0m \u001b[0mpandas\u001b[0m\u001b[0;34m.\u001b[0m\u001b[0mtools\u001b[0m\u001b[0;34m.\u001b[0m\u001b[0mplotting\u001b[0m \u001b[0;32mimport\u001b[0m \u001b[0mscatter_matrix\u001b[0m\u001b[0;34m\u001b[0m\u001b[0m\n\u001b[0;32m----> 2\u001b[0;31m \u001b[0mscatter_matrix\u001b[0m\u001b[0;34m(\u001b[0m\u001b[0mconcat_batter_df\u001b[0m\u001b[0;34m[\u001b[0m\u001b[0;34m[\u001b[0m\u001b[0;36m4\u001b[0m\u001b[0;34m,\u001b[0m\u001b[0;36m5\u001b[0m\u001b[0;34m,\u001b[0m\u001b[0;36m6\u001b[0m\u001b[0;34m]\u001b[0m\u001b[0;34m]\u001b[0m\u001b[0;34m,\u001b[0m \u001b[0malpha\u001b[0m\u001b[0;34m=\u001b[0m\u001b[0;36m0.2\u001b[0m\u001b[0;34m,\u001b[0m \u001b[0mfigsize\u001b[0m\u001b[0;34m=\u001b[0m\u001b[0;34m(\u001b[0m\u001b[0;36m6\u001b[0m\u001b[0;34m,\u001b[0m \u001b[0;36m6\u001b[0m\u001b[0;34m)\u001b[0m\u001b[0;34m,\u001b[0m \u001b[0mdiagonal\u001b[0m\u001b[0;34m=\u001b[0m\u001b[0;34m'kde'\u001b[0m\u001b[0;34m)\u001b[0m\u001b[0;34m\u001b[0m\u001b[0m\n\u001b[0m",
      "\u001b[0;32m/Users/NYer510/anaconda/lib/python2.7/site-packages/pandas/tools/plotting.pyc\u001b[0m in \u001b[0;36mscatter_matrix\u001b[0;34m(frame, alpha, figsize, ax, grid, diagonal, marker, density_kwds, hist_kwds, range_padding, **kwds)\u001b[0m\n\u001b[1;32m    305\u001b[0m                 \u001b[0max\u001b[0m\u001b[0;34m.\u001b[0m\u001b[0mset_ylim\u001b[0m\u001b[0;34m(\u001b[0m\u001b[0mboundaries_list\u001b[0m\u001b[0;34m[\u001b[0m\u001b[0mi\u001b[0m\u001b[0;34m]\u001b[0m\u001b[0;34m)\u001b[0m\u001b[0;34m\u001b[0m\u001b[0m\n\u001b[1;32m    306\u001b[0m \u001b[0;34m\u001b[0m\u001b[0m\n\u001b[0;32m--> 307\u001b[0;31m             \u001b[0max\u001b[0m\u001b[0;34m.\u001b[0m\u001b[0mset_xlabel\u001b[0m\u001b[0;34m(\u001b[0m\u001b[0mb\u001b[0m\u001b[0;34m)\u001b[0m\u001b[0;34m\u001b[0m\u001b[0m\n\u001b[0m\u001b[1;32m    308\u001b[0m             \u001b[0max\u001b[0m\u001b[0;34m.\u001b[0m\u001b[0mset_ylabel\u001b[0m\u001b[0;34m(\u001b[0m\u001b[0ma\u001b[0m\u001b[0;34m)\u001b[0m\u001b[0;34m\u001b[0m\u001b[0m\n\u001b[1;32m    309\u001b[0m \u001b[0;34m\u001b[0m\u001b[0m\n",
      "\u001b[0;32m/Users/NYer510/anaconda/lib/python2.7/site-packages/matplotlib/axes/_axes.pyc\u001b[0m in \u001b[0;36mset_xlabel\u001b[0;34m(self, xlabel, fontdict, labelpad, **kwargs)\u001b[0m\n\u001b[1;32m    177\u001b[0m         \u001b[0;32mif\u001b[0m \u001b[0mlabelpad\u001b[0m \u001b[0;32mis\u001b[0m \u001b[0;32mnot\u001b[0m \u001b[0mNone\u001b[0m\u001b[0;34m:\u001b[0m\u001b[0;34m\u001b[0m\u001b[0m\n\u001b[1;32m    178\u001b[0m             \u001b[0mself\u001b[0m\u001b[0;34m.\u001b[0m\u001b[0mxaxis\u001b[0m\u001b[0;34m.\u001b[0m\u001b[0mlabelpad\u001b[0m \u001b[0;34m=\u001b[0m \u001b[0mlabelpad\u001b[0m\u001b[0;34m\u001b[0m\u001b[0m\n\u001b[0;32m--> 179\u001b[0;31m         \u001b[0;32mreturn\u001b[0m \u001b[0mself\u001b[0m\u001b[0;34m.\u001b[0m\u001b[0mxaxis\u001b[0m\u001b[0;34m.\u001b[0m\u001b[0mset_label_text\u001b[0m\u001b[0;34m(\u001b[0m\u001b[0mxlabel\u001b[0m\u001b[0;34m,\u001b[0m \u001b[0mfontdict\u001b[0m\u001b[0;34m,\u001b[0m \u001b[0;34m**\u001b[0m\u001b[0mkwargs\u001b[0m\u001b[0;34m)\u001b[0m\u001b[0;34m\u001b[0m\u001b[0m\n\u001b[0m\u001b[1;32m    180\u001b[0m \u001b[0;34m\u001b[0m\u001b[0m\n\u001b[1;32m    181\u001b[0m     \u001b[0;32mdef\u001b[0m \u001b[0mget_ylabel\u001b[0m\u001b[0;34m(\u001b[0m\u001b[0mself\u001b[0m\u001b[0;34m)\u001b[0m\u001b[0;34m:\u001b[0m\u001b[0;34m\u001b[0m\u001b[0m\n",
      "\u001b[0;32m/Users/NYer510/anaconda/lib/python2.7/site-packages/matplotlib/axis.pyc\u001b[0m in \u001b[0;36mset_label_text\u001b[0;34m(self, label, fontdict, **kwargs)\u001b[0m\n\u001b[1;32m   1478\u001b[0m         \"\"\"\n\u001b[1;32m   1479\u001b[0m         \u001b[0mself\u001b[0m\u001b[0;34m.\u001b[0m\u001b[0misDefault_label\u001b[0m \u001b[0;34m=\u001b[0m \u001b[0mFalse\u001b[0m\u001b[0;34m\u001b[0m\u001b[0m\n\u001b[0;32m-> 1480\u001b[0;31m         \u001b[0mself\u001b[0m\u001b[0;34m.\u001b[0m\u001b[0mlabel\u001b[0m\u001b[0;34m.\u001b[0m\u001b[0mset_text\u001b[0m\u001b[0;34m(\u001b[0m\u001b[0mlabel\u001b[0m\u001b[0;34m)\u001b[0m\u001b[0;34m\u001b[0m\u001b[0m\n\u001b[0m\u001b[1;32m   1481\u001b[0m         \u001b[0;32mif\u001b[0m \u001b[0mfontdict\u001b[0m \u001b[0;32mis\u001b[0m \u001b[0;32mnot\u001b[0m \u001b[0mNone\u001b[0m\u001b[0;34m:\u001b[0m\u001b[0;34m\u001b[0m\u001b[0m\n\u001b[1;32m   1482\u001b[0m             \u001b[0mself\u001b[0m\u001b[0;34m.\u001b[0m\u001b[0mlabel\u001b[0m\u001b[0;34m.\u001b[0m\u001b[0mupdate\u001b[0m\u001b[0;34m(\u001b[0m\u001b[0mfontdict\u001b[0m\u001b[0;34m)\u001b[0m\u001b[0;34m\u001b[0m\u001b[0m\n",
      "\u001b[0;32m/Users/NYer510/anaconda/lib/python2.7/site-packages/matplotlib/text.pyc\u001b[0m in \u001b[0;36mset_text\u001b[0;34m(self, s)\u001b[0m\n\u001b[1;32m   1026\u001b[0m         \u001b[0mACCEPTS\u001b[0m\u001b[0;34m:\u001b[0m \u001b[0mstring\u001b[0m \u001b[0;32mor\u001b[0m \u001b[0manything\u001b[0m \u001b[0mprintable\u001b[0m \u001b[0;32mwith\u001b[0m \u001b[0;34m'%s'\u001b[0m \u001b[0mconversion\u001b[0m\u001b[0;34m.\u001b[0m\u001b[0;34m\u001b[0m\u001b[0m\n\u001b[1;32m   1027\u001b[0m         \"\"\"\n\u001b[0;32m-> 1028\u001b[0;31m         \u001b[0mself\u001b[0m\u001b[0;34m.\u001b[0m\u001b[0m_text\u001b[0m \u001b[0;34m=\u001b[0m \u001b[0;34m'%s'\u001b[0m \u001b[0;34m%\u001b[0m \u001b[0;34m(\u001b[0m\u001b[0ms\u001b[0m\u001b[0;34m,\u001b[0m\u001b[0;34m)\u001b[0m\u001b[0;34m\u001b[0m\u001b[0m\n\u001b[0m\u001b[1;32m   1029\u001b[0m \u001b[0;34m\u001b[0m\u001b[0m\n\u001b[1;32m   1030\u001b[0m     \u001b[0;34m@\u001b[0m\u001b[0mstaticmethod\u001b[0m\u001b[0;34m\u001b[0m\u001b[0m\n",
      "\u001b[0;31mUnicodeDecodeError\u001b[0m: 'ascii' codec can't decode byte 0xe5 in position 0: ordinal not in range(128)"
     ]
    }
   ],
   "source": [
    "from pandas.tools.plotting import scatter_matrix\n",
    "scatter_matrix(concat_batter_df[[4,5,6]], alpha=0.2, figsize=(6, 6), diagonal='kde')"
   ]
  },
  {
   "cell_type": "code",
   "execution_count": null,
   "metadata": {
    "collapsed": true
   },
   "outputs": [],
   "source": []
  }
 ],
 "metadata": {
  "kernelspec": {
   "display_name": "Python 2",
   "language": "python",
   "name": "python2"
  },
  "language_info": {
   "codemirror_mode": {
    "name": "ipython",
    "version": 2
   },
   "file_extension": ".py",
   "mimetype": "text/x-python",
   "name": "python",
   "nbconvert_exporter": "python",
   "pygments_lexer": "ipython2",
   "version": "2.7.10"
  }
 },
 "nbformat": 4,
 "nbformat_minor": 0
}
