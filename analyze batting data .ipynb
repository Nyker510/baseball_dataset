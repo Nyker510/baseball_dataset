{
 "cells": [
  {
   "cell_type": "code",
   "execution_count": 2,
   "metadata": {
    "collapsed": true
   },
   "outputs": [],
   "source": [
    "import numpy as np\n",
    "import matplotlib.pyplot as plt\n",
    "import pandas as pd\n",
    "import statsmodels.api as sm\n",
    "import seaborn as sns\n",
    "from scipy import stats\n",
    "import sklearn as sk"
   ]
  },
  {
   "cell_type": "code",
   "execution_count": 3,
   "metadata": {
    "collapsed": false,
    "scrolled": true
   },
   "outputs": [
    {
     "data": {
      "text/plain": [
       "Team       object\n",
       "背番号         int64\n",
       "選手名        object\n",
       "打率        float64\n",
       "試合        float64\n",
       "打席数       float64\n",
       "打数        float64\n",
       "安打        float64\n",
       "本塁打       float64\n",
       "打点        float64\n",
       "盗塁        float64\n",
       "四球        float64\n",
       "死球        float64\n",
       "三振        float64\n",
       "犠打        float64\n",
       "併殺打       float64\n",
       "長打率       float64\n",
       "出塁率       float64\n",
       "OPS       float64\n",
       "RC27      float64\n",
       "XR27      float64\n",
       "No.         int64\n",
       "守備         object\n",
       "生年月日       object\n",
       "年齢          int64\n",
       "年数          int64\n",
       "身長          int64\n",
       "体重          int64\n",
       "血液型        object\n",
       "出身地        object\n",
       "年俸(推定)    float64\n",
       "投          object\n",
       "打          object\n",
       "dtype: object"
      ]
     },
     "execution_count": 3,
     "metadata": {},
     "output_type": "execute_result"
    }
   ],
   "source": [
    "batting2015_df = pd.read_csv(\"batting2015.csv\",index_col = 0)\n",
    "batting2015_df = batting2015_df.convert_objects(convert_numeric=True)\n",
    "\n",
    "pinfo_df = pd.read_csv(\"player_info_table.csv\",index_col=0)\n",
    "del pinfo_df[\"Team\"]\n",
    "pinfo_df = pinfo_df.convert_objects(convert_numeric=True)\n",
    "pinfo_df.head()\n",
    "\n",
    "batting2015_df = pd.merge(batting2015_df,pinfo_df,on=\"選手名\")\n",
    "# batting2015_df.drop(\"Team_x\")\n",
    "# batting2015_df[merged_df[\"守備\"]==\"投手\"]\n",
    "batting2015_df.dtypes"
   ]
  },
  {
   "cell_type": "code",
   "execution_count": 4,
   "metadata": {
    "collapsed": false
   },
   "outputs": [],
   "source": [
    "batting2015_df = batting2015_df.dropna() #NaNを消す\n",
    "at_bat = batting2015_df[\"打数\"]\n",
    "hit = batting2015_df[\"安打\"]\n",
    "Iscarp = batting2015_df[\"Team\"]==\"広\"\n",
    "Isbat_right = batting2015_df[\"打\"]==\"右\"\n",
    "plt.plot(at_bat[-Iscarp],hit[-Iscarp],\"o\",label=\"NotCarp\")\n",
    "plt.plot(at_bat[Iscarp],hit[Iscarp],\"o\",label=\"Carp\")\n",
    "plt.plot(np.linspace(0,np.max(at_bat),100),np.linspace(0,np.max(at_bat),100)*.3,\"--\")\n",
    "plt.legend(bbox_to_anchor=(.05, 1), loc=2, borderaxespad=0.)\n",
    "plt.show()"
   ]
  },
  {
   "cell_type": "code",
   "execution_count": 5,
   "metadata": {
    "collapsed": false
   },
   "outputs": [],
   "source": [
    "IsoD = batting2015_df[\"出塁率\"]-batting2015_df[\"打率\"]\n",
    "IsoP = batting2015_df[\"長打率\"]-batting2015_df[\"打率\"]\n",
    "Isover50 = batting2015_df[\"打席数\"]>=50\n",
    "plt.subplot(1,3,1)\n",
    "plt.plot(IsoD[Isover50&Isbat_right],IsoP[Isover50&Isbat_right],\"o\",label=\"Bat at R\")\n",
    "plt.plot(IsoD[Isover50&-Isbat_right],IsoP[Isover50&-Isbat_right],\"o\",label=\"Bat at L\")\n",
    "# plt.plot(IsoD[-Isover50],IsoP[-Isover50],\"o\")\n",
    "plt.legend()\n",
    "plt.xlabel(\"IsoD\")\n",
    "plt.ylabel(\"IsoP\")\n",
    "\n",
    "plt.subplot(1,3,2)\n",
    "plt.plot(batting2015_df[\"XR27\"][Isover50&Isbat_right],IsoP[Isover50&Isbat_right],\"o\",label=\"Bat at R\")\n",
    "plt.plot(batting2015_df[\"XR27\"][Isover50&-Isbat_right],IsoP[Isover50&-Isbat_right],\"o\",label=\"Bat at L\")\n",
    "plt.subplot(1,3,3)\n",
    "plt.plot(batting2015_df[\"体重\"][Isover50&Isbat_right],IsoP[Isover50&Isbat_right],\"o\",label=\"Bat at R\")\n",
    "plt.plot(batting2015_df[\"体重\"][Isover50&-Isbat_right],IsoP[Isover50&-Isbat_right],\"o\",label=\"Bat at L\")"
   ]
  },
  {
   "cell_type": "code",
   "execution_count": 6,
   "metadata": {
    "collapsed": false
   },
   "outputs": [
    {
     "name": "stderr",
     "output_type": "stream",
     "text": [
      "C:\\Users\\det A\\Anaconda\\lib\\site-packages\\ipykernel\\__main__.py:2: SettingWithCopyWarning: \n",
      "A value is trying to be set on a copy of a slice from a DataFrame\n",
      "\n",
      "See the the caveats in the documentation: http://pandas.pydata.org/pandas-docs/stable/indexing.html#indexing-view-versus-copy\n",
      "  from ipykernel import kernelapp as app\n"
     ]
    }
   ],
   "source": [
    "batting2015_df[\"打\"][Isbat_right] = \"right\"\n",
    "batting2015_df[\"打\"][-Isbat_right] = \"left\""
   ]
  },
  {
   "cell_type": "code",
   "execution_count": null,
   "metadata": {
    "collapsed": false
   },
   "outputs": [],
   "source": [
    "d = {\n",
    "    \"Bat\":batting2015_df[\"打\"],\n",
    "#     \"at_bat\":batting2015_df[\"打席数\"],\n",
    "    \"hit\":batting2015_df[\"安打\"],\n",
    "    \"hr\":batting2015_df[\"本塁打\"],\n",
    "#     \"bb\":batting2015_df[\"四球\"],\n",
    "#     \"deadball\":batting2015_df[\"死球\"], \n",
    "    \"Price\":batting2015_df[\"年俸(推定)\"],\n",
    "    \"IsoD\":batting2015_df[\"出塁率\"]-batting2015_df[\"打率\"],\n",
    "    \"IsoP\":batting2015_df[\"長打率\"]-batting2015_df[\"打率\"],\n",
    "    \"XR27\":batting2015_df[\"XR27\"],\n",
    "    \"Weight\": batting2015_df[\"体重\"],\n",
    "    \"Height\": batting2015_df[\"身長\"]\n",
    "}\n",
    "df = pd.DataFrame(data=d)\n",
    "sns.pairplot(df,hue=\"Bat\")\n",
    "# plt.show()\n",
    "plt.savefig(\"bat_at_left_vs_right.png\")"
   ]
  },
  {
   "cell_type": "code",
   "execution_count": null,
   "metadata": {
    "collapsed": false
   },
   "outputs": [],
   "source": [
    "corr = df.corr()\n",
    "sns.heatmap(corr)\n",
    "plt.show()"
   ]
  },
  {
   "cell_type": "code",
   "execution_count": null,
   "metadata": {
    "collapsed": false
   },
   "outputs": [],
   "source": [
    "batting2015_df[\"IsoP\"]=IsoP\n",
    "batting2015_df[\"IsoD\"]=IsoD\n",
    "batting2015_df[Isover50].sort(columns=\"IsoP\",ascending=False).head(10)[\"XR27\"]"
   ]
  },
  {
   "cell_type": "code",
   "execution_count": 5,
   "metadata": {
    "collapsed": false
   },
   "outputs": [],
   "source": [
    "d = {\n",
    "    \"IsoD\":IsoD,\n",
    "    \"IsoP\":IsoP,\n",
    "    \"at_bat\":at_bat,\n",
    "    \"hit\":hit,\n",
    "    \"bb\":batting2015_df[\"四球\"],\n",
    "    \"deadball\":batting2015_df[\"死球\"], \n",
    "    \"XR27\":batting2015_df[\"XR27\"],\n",
    "    \"hr\":batting2015_df[\"本塁打\"]\n",
    "}\n",
    "my_df = pd.DataFrame(data=d)\n",
    "pd.tools.plotting.scatter_matrix(my_df,diagonal=\"kde\")\n",
    "plt.show()"
   ]
  },
  {
   "cell_type": "code",
   "execution_count": 6,
   "metadata": {
    "collapsed": false
   },
   "outputs": [],
   "source": [
    "my_df.plot(kind=\"scatter\",x=\"IsoD\",y=\"IsoP\",s=my_df[\"at_bat\"])\n",
    "plt.show()"
   ]
  },
  {
   "cell_type": "code",
   "execution_count": 7,
   "metadata": {
    "collapsed": false
   },
   "outputs": [
    {
     "data": {
      "text/plain": [
       "KMeans(copy_x=True, init='k-means++', max_iter=300, n_clusters=3, n_init=10,\n",
       "    n_jobs=1, precompute_distances='auto', random_state=10, tol=0.0001,\n",
       "    verbose=0)"
      ]
     },
     "execution_count": 7,
     "metadata": {},
     "output_type": "execute_result"
    }
   ],
   "source": [
    "from sklearn.cluster import KMeans\n",
    "kmeans_model = KMeans(n_clusters = 3,init=\"k-means++\",random_state=10)\n",
    "kmeans_model.fit(my_df[[\"IsoD\",\"IsoP\"]])"
   ]
  },
  {
   "cell_type": "code",
   "execution_count": 8,
   "metadata": {
    "collapsed": true
   },
   "outputs": [],
   "source": [
    "labels = kmeans_model.labels_"
   ]
  },
  {
   "cell_type": "code",
   "execution_count": 9,
   "metadata": {
    "collapsed": true
   },
   "outputs": [],
   "source": [
    "for i in range(max(labels)+1):\n",
    "    plt.plot(my_df[\"IsoD\"][labels==i],my_df[\"IsoP\"][labels==i],\"o\")\n",
    "plt.show()"
   ]
  },
  {
   "cell_type": "code",
   "execution_count": null,
   "metadata": {
    "collapsed": false
   },
   "outputs": [],
   "source": [
    "kmeans_model.cluster_centers_"
   ]
  },
  {
   "cell_type": "code",
   "execution_count": null,
   "metadata": {
    "collapsed": true
   },
   "outputs": [],
   "source": [
    "pinfo_df = pd.read_csv(\"player_info_table.csv\",index_col=0)\n",
    "pinfo_df.head()"
   ]
  },
  {
   "cell_type": "code",
   "execution_count": null,
   "metadata": {
    "collapsed": false
   },
   "outputs": [],
   "source": []
  },
  {
   "cell_type": "code",
   "execution_count": null,
   "metadata": {
    "collapsed": true
   },
   "outputs": [],
   "source": []
  }
 ],
 "metadata": {
  "kernelspec": {
   "display_name": "Python 2",
   "language": "python",
   "name": "python2"
  },
  "language_info": {
   "codemirror_mode": {
    "name": "ipython",
    "version": 2
   },
   "file_extension": ".py",
   "mimetype": "text/x-python",
   "name": "python",
   "nbconvert_exporter": "python",
   "pygments_lexer": "ipython2",
   "version": "2.7.11"
  }
 },
 "nbformat": 4,
 "nbformat_minor": 0
}
