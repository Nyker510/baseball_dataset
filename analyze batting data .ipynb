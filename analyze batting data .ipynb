{
 "cells": [
  {
   "cell_type": "code",
   "execution_count": 10,
   "metadata": {
    "collapsed": true
   },
   "outputs": [],
   "source": [
    "import numpy as np\n",
    "import matplotlib.pyplot as plt\n",
    "import pandas as pd\n",
    "import statsmodels.api as sm\n",
    "import seaborn as sns\n",
    "from scipy import stats\n",
    "import sklearn as sk"
   ]
  },
  {
   "cell_type": "code",
   "execution_count": 52,
   "metadata": {
    "collapsed": false,
    "scrolled": true
   },
   "outputs": [
    {
     "data": {
      "text/plain": [
       "Team       object\n",
       "背番号         int64\n",
       "選手名        object\n",
       "打率        float64\n",
       "試合        float64\n",
       "打席数       float64\n",
       "打数        float64\n",
       "安打        float64\n",
       "本塁打       float64\n",
       "打点        float64\n",
       "盗塁        float64\n",
       "四球        float64\n",
       "死球        float64\n",
       "三振        float64\n",
       "犠打        float64\n",
       "併殺打       float64\n",
       "長打率       float64\n",
       "出塁率       float64\n",
       "OPS       float64\n",
       "RC27      float64\n",
       "XR27      float64\n",
       "No.         int64\n",
       "守備         object\n",
       "生年月日       object\n",
       "年齢          int64\n",
       "年数          int64\n",
       "身長          int64\n",
       "体重          int64\n",
       "血液型        object\n",
       "出身地        object\n",
       "年俸(推定)    float64\n",
       "投          object\n",
       "打          object\n",
       "dtype: object"
      ]
     },
     "execution_count": 52,
     "metadata": {},
     "output_type": "execute_result"
    }
   ],
   "source": [
    "batting2015_df = pd.read_csv(\"batting2015.csv\",index_col = 0)\n",
    "batting2015_df = batting2015_df.convert_objects(convert_numeric=True)\n",
    "\n",
    "pinfo_df = pd.read_csv(\"player_info_table.csv\",index_col=0)\n",
    "del pinfo_df[\"Team\"]\n",
    "pinfo_df = pinfo_df.convert_objects(convert_numeric=True)\n",
    "pinfo_df.head()\n",
    "\n",
    "batting2015_df = pd.merge(batting2015_df,pinfo_df,on=\"選手名\")\n",
    "# batting2015_df.drop(\"Team_x\")\n",
    "# batting2015_df[merged_df[\"守備\"]==\"投手\"]\n",
    "batting2015_df.dtypes"
   ]
  },
  {
   "cell_type": "code",
   "execution_count": 54,
   "metadata": {
    "collapsed": false
   },
   "outputs": [],
   "source": [
    "batting2015_df = batting2015_df.dropna() #NaNを消す\n",
    "at_bat = batting2015_df[\"打数\"]\n",
    "hit = batting2015_df[\"安打\"]\n",
    "Iscarp = batting2015_df[\"Team\"]==\"広\"\n",
    "Isbat_right = batting2015_df[\"打\"]==\"右\"\n",
    "plt.plot(at_bat[-Iscarp],hit[-Iscarp],\"o\",label=\"NotCarp\")\n",
    "plt.plot(at_bat[Iscarp],hit[Iscarp],\"o\",label=\"Carp\")\n",
    "plt.plot(np.linspace(0,np.max(at_bat),100),np.linspace(0,np.max(at_bat),100)*.3,\"--\")\n",
    "plt.legend(bbox_to_anchor=(.05, 1), loc=2, borderaxespad=0.)\n",
    "plt.show()"
   ]
  },
  {
   "cell_type": "code",
   "execution_count": 60,
   "metadata": {
    "collapsed": false
   },
   "outputs": [],
   "source": [
    "IsoD = batting2015_df[\"出塁率\"]-batting2015_df[\"打率\"]\n",
    "IsoP = batting2015_df[\"長打率\"]-batting2015_df[\"打率\"]\n",
    "Isover50 = batting2015_df[\"打席数\"]>=50\n",
    "plt.subplot(1,3,1)\n",
    "plt.plot(IsoD[Isover50&Isbat_right],IsoP[Isover50&Isbat_right],\"o\",label=\"Bat at R\")\n",
    "plt.plot(IsoD[Isover50&-Isbat_right],IsoP[Isover50&-Isbat_right],\"o\",label=\"Bat at L\")\n",
    "# plt.plot(IsoD[-Isover50],IsoP[-Isover50],\"o\")\n",
    "plt.legend()\n",
    "plt.xlabel(\"IsoD\")\n",
    "plt.ylabel(\"IsoP\")\n",
    "\n",
    "plt.subplot(1,3,2)\n",
    "plt.plot(batting2015_df[\"XR27\"][Isover50&Isbat_right],IsoP[Isover50&Isbat_right],\"o\",label=\"Bat at R\")\n",
    "plt.plot(batting2015_df[\"XR27\"][Isover50&-Isbat_right],IsoP[Isover50&-Isbat_right],\"o\",label=\"Bat at L\")\n",
    "plt.subplot(1,3,3)\n",
    "plt.plot(batting2015_df[\"体重\"][Isover50&Isbat_right],IsoP[Isover50&Isbat_right],\"o\",label=\"Bat at R\")\n",
    "plt.plot(batting2015_df[\"体重\"][Isover50&-Isbat_right],IsoP[Isover50&-Isbat_right],\"o\",label=\"Bat at L\")\n",
    "plt.show()"
   ]
  },
  {
   "cell_type": "code",
   "execution_count": 56,
   "metadata": {
    "collapsed": false
   },
   "outputs": [
    {
     "name": "stderr",
     "output_type": "stream",
     "text": [
      "C:\\Users\\det A\\Anaconda\\lib\\site-packages\\ipykernel\\__main__.py:2: SettingWithCopyWarning: \n",
      "A value is trying to be set on a copy of a slice from a DataFrame\n",
      "\n",
      "See the the caveats in the documentation: http://pandas.pydata.org/pandas-docs/stable/indexing.html#indexing-view-versus-copy\n",
      "  from ipykernel import kernelapp as app\n"
     ]
    }
   ],
   "source": [
    "batting2015_df[\"打\"][Isbat_right] = \"right\"\n",
    "batting2015_df[\"打\"][-Isbat_right] = \"left\""
   ]
  },
  {
   "cell_type": "code",
   "execution_count": 63,
   "metadata": {
    "collapsed": false
   },
   "outputs": [],
   "source": [
    "d = {\n",
    "    \"Bat\":batting2015_df[\"打\"],\n",
    "#     \"at_bat\":batting2015_df[\"打席数\"],\n",
    "    \"hit\":batting2015_df[\"安打\"],\n",
    "    \"hr\":batting2015_df[\"本塁打\"],\n",
    "#     \"bb\":batting2015_df[\"四球\"],\n",
    "#     \"deadball\":batting2015_df[\"死球\"], \n",
    "    \"Price\":batting2015_df[\"年俸(推定)\"],\n",
    "    \"IsoD\":batting2015_df[\"出塁率\"]-batting2015_df[\"打率\"],\n",
    "    \"IsoP\":batting2015_df[\"長打率\"]-batting2015_df[\"打率\"],\n",
    "    \"XR27\":batting2015_df[\"XR27\"],\n",
    "    \"Weight\": batting2015_df[\"体重\"],\n",
    "    \"Height\": batting2015_df[\"身長\"]\n",
    "}\n",
    "df = pd.DataFrame(data=d)\n",
    "sns.pairplot(df,hue=\"Bat\")\n",
    "# plt.show()\n",
    "plt.savefig(\"bat_at_left_vs_right.png\")"
   ]
  },
  {
   "cell_type": "code",
   "execution_count": 66,
   "metadata": {
    "collapsed": false
   },
   "outputs": [],
   "source": [
    "corr = df.corr()\n",
    "sns.heatmap(corr)\n",
    "plt.show()"
   ]
  },
  {
   "cell_type": "code",
   "execution_count": 35,
   "metadata": {
    "collapsed": false
   },
   "outputs": [
    {
     "data": {
      "text/html": [
       "<div>\n",
       "<table border=\"1\" class=\"dataframe\">\n",
       "  <thead>\n",
       "    <tr style=\"text-align: right;\">\n",
       "      <th></th>\n",
       "      <th>Team</th>\n",
       "      <th>背番号</th>\n",
       "      <th>選手名</th>\n",
       "      <th>打率</th>\n",
       "      <th>試合</th>\n",
       "      <th>打席数</th>\n",
       "      <th>打数</th>\n",
       "      <th>安打</th>\n",
       "      <th>本塁打</th>\n",
       "      <th>打点</th>\n",
       "      <th>...</th>\n",
       "      <th>年数</th>\n",
       "      <th>身長</th>\n",
       "      <th>体重</th>\n",
       "      <th>血液型</th>\n",
       "      <th>出身地</th>\n",
       "      <th>年俸(推定)</th>\n",
       "      <th>投</th>\n",
       "      <th>打</th>\n",
       "      <th>IsoP</th>\n",
       "      <th>IsoD</th>\n",
       "    </tr>\n",
       "  </thead>\n",
       "  <tbody>\n",
       "    <tr>\n",
       "      <th>179</th>\n",
       "      <td>ヤ</td>\n",
       "      <td>23</td>\n",
       "      <td>山田　哲人</td>\n",
       "      <td>0.329</td>\n",
       "      <td>143</td>\n",
       "      <td>646</td>\n",
       "      <td>557</td>\n",
       "      <td>183</td>\n",
       "      <td>38</td>\n",
       "      <td>100</td>\n",
       "      <td>...</td>\n",
       "      <td>5</td>\n",
       "      <td>180</td>\n",
       "      <td>76</td>\n",
       "      <td>O</td>\n",
       "      <td>兵庫</td>\n",
       "      <td>8000</td>\n",
       "      <td>右</td>\n",
       "      <td>右</td>\n",
       "      <td>0.281</td>\n",
       "      <td>0.087</td>\n",
       "    </tr>\n",
       "    <tr>\n",
       "      <th>5</th>\n",
       "      <td>広</td>\n",
       "      <td>55</td>\n",
       "      <td>エルドレッド</td>\n",
       "      <td>0.230</td>\n",
       "      <td>78</td>\n",
       "      <td>297</td>\n",
       "      <td>261</td>\n",
       "      <td>60</td>\n",
       "      <td>19</td>\n",
       "      <td>54</td>\n",
       "      <td>...</td>\n",
       "      <td>4</td>\n",
       "      <td>196</td>\n",
       "      <td>122</td>\n",
       "      <td>不明</td>\n",
       "      <td>アメリカ</td>\n",
       "      <td>10900</td>\n",
       "      <td>右</td>\n",
       "      <td>右</td>\n",
       "      <td>0.241</td>\n",
       "      <td>0.080</td>\n",
       "    </tr>\n",
       "    <tr>\n",
       "      <th>165</th>\n",
       "      <td>横</td>\n",
       "      <td>55</td>\n",
       "      <td>後藤　武敏　Ｇ．</td>\n",
       "      <td>0.206</td>\n",
       "      <td>70</td>\n",
       "      <td>76</td>\n",
       "      <td>68</td>\n",
       "      <td>14</td>\n",
       "      <td>4</td>\n",
       "      <td>11</td>\n",
       "      <td>...</td>\n",
       "      <td>13</td>\n",
       "      <td>176</td>\n",
       "      <td>84</td>\n",
       "      <td>A</td>\n",
       "      <td>静岡</td>\n",
       "      <td>2200</td>\n",
       "      <td>右</td>\n",
       "      <td>右</td>\n",
       "      <td>0.235</td>\n",
       "      <td>0.083</td>\n",
       "    </tr>\n",
       "    <tr>\n",
       "      <th>147</th>\n",
       "      <td>横</td>\n",
       "      <td>25</td>\n",
       "      <td>筒香　嘉智</td>\n",
       "      <td>0.317</td>\n",
       "      <td>138</td>\n",
       "      <td>568</td>\n",
       "      <td>496</td>\n",
       "      <td>157</td>\n",
       "      <td>24</td>\n",
       "      <td>93</td>\n",
       "      <td>...</td>\n",
       "      <td>6</td>\n",
       "      <td>185</td>\n",
       "      <td>97</td>\n",
       "      <td>A</td>\n",
       "      <td>和歌山</td>\n",
       "      <td>4600</td>\n",
       "      <td>右</td>\n",
       "      <td>左</td>\n",
       "      <td>0.205</td>\n",
       "      <td>0.083</td>\n",
       "    </tr>\n",
       "    <tr>\n",
       "      <th>148</th>\n",
       "      <td>横</td>\n",
       "      <td>2</td>\n",
       "      <td>ロペス</td>\n",
       "      <td>0.291</td>\n",
       "      <td>140</td>\n",
       "      <td>565</td>\n",
       "      <td>516</td>\n",
       "      <td>150</td>\n",
       "      <td>25</td>\n",
       "      <td>73</td>\n",
       "      <td>...</td>\n",
       "      <td>3</td>\n",
       "      <td>183</td>\n",
       "      <td>103</td>\n",
       "      <td>不明</td>\n",
       "      <td>ベネズエラ</td>\n",
       "      <td>15000</td>\n",
       "      <td>右</td>\n",
       "      <td>右</td>\n",
       "      <td>0.205</td>\n",
       "      <td>0.056</td>\n",
       "    </tr>\n",
       "    <tr>\n",
       "      <th>52</th>\n",
       "      <td>巨</td>\n",
       "      <td>91</td>\n",
       "      <td>堂上　剛裕</td>\n",
       "      <td>0.276</td>\n",
       "      <td>59</td>\n",
       "      <td>104</td>\n",
       "      <td>98</td>\n",
       "      <td>27</td>\n",
       "      <td>3</td>\n",
       "      <td>13</td>\n",
       "      <td>...</td>\n",
       "      <td>12</td>\n",
       "      <td>183</td>\n",
       "      <td>85</td>\n",
       "      <td>O</td>\n",
       "      <td>愛知</td>\n",
       "      <td>1500</td>\n",
       "      <td>右</td>\n",
       "      <td>左</td>\n",
       "      <td>0.204</td>\n",
       "      <td>0.025</td>\n",
       "    </tr>\n",
       "    <tr>\n",
       "      <th>182</th>\n",
       "      <td>ヤ</td>\n",
       "      <td>33</td>\n",
       "      <td>畠山　和洋</td>\n",
       "      <td>0.268</td>\n",
       "      <td>137</td>\n",
       "      <td>584</td>\n",
       "      <td>512</td>\n",
       "      <td>137</td>\n",
       "      <td>26</td>\n",
       "      <td>105</td>\n",
       "      <td>...</td>\n",
       "      <td>15</td>\n",
       "      <td>180</td>\n",
       "      <td>96</td>\n",
       "      <td>O</td>\n",
       "      <td>岩手</td>\n",
       "      <td>9000</td>\n",
       "      <td>右</td>\n",
       "      <td>右</td>\n",
       "      <td>0.203</td>\n",
       "      <td>0.076</td>\n",
       "    </tr>\n",
       "    <tr>\n",
       "      <th>162</th>\n",
       "      <td>横</td>\n",
       "      <td>26</td>\n",
       "      <td>井手　正太郎</td>\n",
       "      <td>0.255</td>\n",
       "      <td>40</td>\n",
       "      <td>102</td>\n",
       "      <td>98</td>\n",
       "      <td>25</td>\n",
       "      <td>4</td>\n",
       "      <td>13</td>\n",
       "      <td>...</td>\n",
       "      <td>14</td>\n",
       "      <td>179</td>\n",
       "      <td>85</td>\n",
       "      <td>O</td>\n",
       "      <td>宮崎</td>\n",
       "      <td>1150</td>\n",
       "      <td>右</td>\n",
       "      <td>右</td>\n",
       "      <td>0.194</td>\n",
       "      <td>0.020</td>\n",
       "    </tr>\n",
       "    <tr>\n",
       "      <th>51</th>\n",
       "      <td>巨</td>\n",
       "      <td>23</td>\n",
       "      <td>相川　亮二</td>\n",
       "      <td>0.313</td>\n",
       "      <td>40</td>\n",
       "      <td>114</td>\n",
       "      <td>99</td>\n",
       "      <td>31</td>\n",
       "      <td>4</td>\n",
       "      <td>17</td>\n",
       "      <td>...</td>\n",
       "      <td>21</td>\n",
       "      <td>182</td>\n",
       "      <td>86</td>\n",
       "      <td>A</td>\n",
       "      <td>千葉</td>\n",
       "      <td>6000</td>\n",
       "      <td>右</td>\n",
       "      <td>右</td>\n",
       "      <td>0.192</td>\n",
       "      <td>0.071</td>\n",
       "    </tr>\n",
       "    <tr>\n",
       "      <th>13</th>\n",
       "      <td>広</td>\n",
       "      <td>13</td>\n",
       "      <td>グスマン</td>\n",
       "      <td>0.230</td>\n",
       "      <td>34</td>\n",
       "      <td>116</td>\n",
       "      <td>100</td>\n",
       "      <td>23</td>\n",
       "      <td>3</td>\n",
       "      <td>12</td>\n",
       "      <td>...</td>\n",
       "      <td>1</td>\n",
       "      <td>185</td>\n",
       "      <td>91</td>\n",
       "      <td>A</td>\n",
       "      <td>ベネズエラ</td>\n",
       "      <td>10800</td>\n",
       "      <td>右</td>\n",
       "      <td>右</td>\n",
       "      <td>0.190</td>\n",
       "      <td>0.106</td>\n",
       "    </tr>\n",
       "  </tbody>\n",
       "</table>\n",
       "<p>10 rows × 35 columns</p>\n",
       "</div>"
      ],
      "text/plain": [
       "    Team  背番号       選手名     打率   試合  打席数   打数   安打  本塁打   打点  ...    年数   身長  \\\n",
       "179    ヤ   23     山田　哲人  0.329  143  646  557  183   38  100  ...     5  180   \n",
       "5      広   55    エルドレッド  0.230   78  297  261   60   19   54  ...     4  196   \n",
       "165    横   55  後藤　武敏　Ｇ．  0.206   70   76   68   14    4   11  ...    13  176   \n",
       "147    横   25     筒香　嘉智  0.317  138  568  496  157   24   93  ...     6  185   \n",
       "148    横    2       ロペス  0.291  140  565  516  150   25   73  ...     3  183   \n",
       "52     巨   91     堂上　剛裕  0.276   59  104   98   27    3   13  ...    12  183   \n",
       "182    ヤ   33     畠山　和洋  0.268  137  584  512  137   26  105  ...    15  180   \n",
       "162    横   26    井手　正太郎  0.255   40  102   98   25    4   13  ...    14  179   \n",
       "51     巨   23     相川　亮二  0.313   40  114   99   31    4   17  ...    21  182   \n",
       "13     広   13      グスマン  0.230   34  116  100   23    3   12  ...     1  185   \n",
       "\n",
       "      体重  血液型    出身地  年俸(推定)  投  打   IsoP   IsoD  \n",
       "179   76    O     兵庫    8000  右  右  0.281  0.087  \n",
       "5    122   不明   アメリカ   10900  右  右  0.241  0.080  \n",
       "165   84    A     静岡    2200  右  右  0.235  0.083  \n",
       "147   97    A    和歌山    4600  右  左  0.205  0.083  \n",
       "148  103   不明  ベネズエラ   15000  右  右  0.205  0.056  \n",
       "52    85    O     愛知    1500  右  左  0.204  0.025  \n",
       "182   96    O     岩手    9000  右  右  0.203  0.076  \n",
       "162   85    O     宮崎    1150  右  右  0.194  0.020  \n",
       "51    86    A     千葉    6000  右  右  0.192  0.071  \n",
       "13    91    A  ベネズエラ   10800  右  右  0.190  0.106  \n",
       "\n",
       "[10 rows x 35 columns]"
      ]
     },
     "execution_count": 35,
     "metadata": {},
     "output_type": "execute_result"
    }
   ],
   "source": [
    "batting2015_df[\"IsoP\"]=IsoP\n",
    "batting2015_df[\"IsoD\"]=IsoD\n",
    "batting2015_df[Isover50].sort(columns=\"IsoP\",ascending=False).head(10)"
   ]
  },
  {
   "cell_type": "code",
   "execution_count": 5,
   "metadata": {
    "collapsed": false
   },
   "outputs": [],
   "source": [
    "d = {\n",
    "    \"IsoD\":IsoD,\n",
    "    \"IsoP\":IsoP,\n",
    "    \"at_bat\":at_bat,\n",
    "    \"hit\":hit,\n",
    "    \"bb\":batting2015_df[\"四球\"],\n",
    "    \"deadball\":batting2015_df[\"死球\"], \n",
    "    \"XR27\":batting2015_df[\"XR27\"],\n",
    "    \"hr\":batting2015_df[\"本塁打\"]\n",
    "}\n",
    "my_df = pd.DataFrame(data=d)\n",
    "pd.tools.plotting.scatter_matrix(my_df,diagonal=\"kde\")\n",
    "plt.show()"
   ]
  },
  {
   "cell_type": "code",
   "execution_count": 6,
   "metadata": {
    "collapsed": false
   },
   "outputs": [],
   "source": [
    "my_df.plot(kind=\"scatter\",x=\"IsoD\",y=\"IsoP\",s=my_df[\"at_bat\"])\n",
    "plt.show()"
   ]
  },
  {
   "cell_type": "code",
   "execution_count": 7,
   "metadata": {
    "collapsed": false
   },
   "outputs": [
    {
     "data": {
      "text/plain": [
       "KMeans(copy_x=True, init='k-means++', max_iter=300, n_clusters=3, n_init=10,\n",
       "    n_jobs=1, precompute_distances='auto', random_state=10, tol=0.0001,\n",
       "    verbose=0)"
      ]
     },
     "execution_count": 7,
     "metadata": {},
     "output_type": "execute_result"
    }
   ],
   "source": [
    "from sklearn.cluster import KMeans\n",
    "kmeans_model = KMeans(n_clusters = 3,init=\"k-means++\",random_state=10)\n",
    "kmeans_model.fit(my_df[[\"IsoD\",\"IsoP\"]])"
   ]
  },
  {
   "cell_type": "code",
   "execution_count": 8,
   "metadata": {
    "collapsed": true
   },
   "outputs": [],
   "source": [
    "labels = kmeans_model.labels_"
   ]
  },
  {
   "cell_type": "code",
   "execution_count": 9,
   "metadata": {
    "collapsed": true
   },
   "outputs": [],
   "source": [
    "for i in range(max(labels)+1):\n",
    "    plt.plot(my_df[\"IsoD\"][labels==i],my_df[\"IsoP\"][labels==i],\"o\")\n",
    "plt.show()"
   ]
  },
  {
   "cell_type": "code",
   "execution_count": null,
   "metadata": {
    "collapsed": false
   },
   "outputs": [],
   "source": [
    "kmeans_model.cluster_centers_"
   ]
  },
  {
   "cell_type": "code",
   "execution_count": null,
   "metadata": {
    "collapsed": true
   },
   "outputs": [],
   "source": [
    "pinfo_df = pd.read_csv(\"player_info_table.csv\",index_col=0)\n",
    "pinfo_df.head()"
   ]
  },
  {
   "cell_type": "code",
   "execution_count": null,
   "metadata": {
    "collapsed": false
   },
   "outputs": [],
   "source": []
  },
  {
   "cell_type": "code",
   "execution_count": null,
   "metadata": {
    "collapsed": true
   },
   "outputs": [],
   "source": []
  }
 ],
 "metadata": {
  "kernelspec": {
   "display_name": "Python 2",
   "language": "python",
   "name": "python2"
  },
  "language_info": {
   "codemirror_mode": {
    "name": "ipython",
    "version": 2
   },
   "file_extension": ".py",
   "mimetype": "text/x-python",
   "name": "python",
   "nbconvert_exporter": "python",
   "pygments_lexer": "ipython2",
   "version": "2.7.10"
  }
 },
 "nbformat": 4,
 "nbformat_minor": 0
}
